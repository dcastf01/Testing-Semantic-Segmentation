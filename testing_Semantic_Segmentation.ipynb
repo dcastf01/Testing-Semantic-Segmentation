{
  "nbformat": 4,
  "nbformat_minor": 0,
  "metadata": {
    "colab": {
      "name": "testing-Semantic Segmentation.ipynb",
      "provenance": [],
      "authorship_tag": "ABX9TyP0+nT/3LvuY+g64kI4NkKy",
      "include_colab_link": true
    },
    "kernelspec": {
      "name": "python3",
      "display_name": "Python 3"
    }
  },
  "cells": [
    {
      "cell_type": "markdown",
      "metadata": {
        "id": "view-in-github",
        "colab_type": "text"
      },
      "source": [
        "<a href=\"https://colab.research.google.com/github/dcastf01/Testing-Semantic-Segmentation/blob/master/testing_Semantic_Segmentation.ipynb\" target=\"_parent\"><img src=\"https://colab.research.google.com/assets/colab-badge.svg\" alt=\"Open In Colab\"/></a>"
      ]
    },
    {
      "cell_type": "markdown",
      "metadata": {
        "id": "jQ2TnuNhPT5U",
        "colab_type": "text"
      },
      "source": [
        "Notebook para aprender a usar correctamente segmentación de imágenes\n"
      ]
    },
    {
      "cell_type": "code",
      "metadata": {
        "id": "tkPKHyh-PI-L",
        "colab_type": "code",
        "colab": {}
      },
      "source": [
        "import os, sys, math\n",
        "import numpy as np\n",
        "from matplotlib import pyplot as plt\n",
        "if 'google.colab' in sys.modules: # Colab-only Tensorflow version selector\n",
        "  %tensorflow_version 2.x\n",
        "  \n",
        "import tensorflow as tf\n",
        "print(\"Tensorflow version \" + tf.__version__)\n",
        "AUTO = tf.data.experimental.AUTOTUNE"
      ],
      "execution_count": null,
      "outputs": []
    }
  ]
}